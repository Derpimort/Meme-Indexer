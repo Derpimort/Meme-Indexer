{
 "cells": [
  {
   "cell_type": "code",
   "execution_count": null,
   "metadata": {},
   "outputs": [],
   "source": [
    "import os\n",
    "import pandas as pd\n",
    "import numpy as np\n",
    "import cv2\n",
    "\n",
    "DATA_DIR=\"Data/Pins\"\n",
    "TARGET_DIR=\"Data/PP_pins\"\n",
    "TARGET_SIZE=(299,299)\n",
    "\n",
    "if not os.path.exists(TARGET_DIR):\n",
    "\tos.makedirs(TARGET_DIR)\n",
    "\n",
    "for dirname, _, filenames in os.walk(DATA_DIR):\n",
    "\tfor filename in filenames:\n",
    "\t\ttry:\n",
    "\t\t\tim=cv2.imread(os.path.join(dirname, filename))\n",
    "\t\t\tim=cv2.resize(im, TARGET_SIZE, interpolation=cv2.INTER_CUBIC)\n",
    "\t\t\tcv2.imwrite(os.path.join(TARGET_DIR, filename),im)\n",
    "\t\texcept Exception as e:\n",
    "\t\t\tprint(filename, e)"
   ]
  },
  {
   "cell_type": "code",
   "execution_count": null,
   "metadata": {},
   "outputs": [],
   "source": []
  }
 ],
 "metadata": {
  "kernelspec": {
   "display_name": "Python 3",
   "language": "python",
   "name": "python3"
  },
  "language_info": {
   "codemirror_mode": {
    "name": "ipython",
    "version": 3
   },
   "file_extension": ".py",
   "mimetype": "text/x-python",
   "name": "python",
   "nbconvert_exporter": "python",
   "pygments_lexer": "ipython3",
   "version": "3.7.6"
  }
 },
 "nbformat": 4,
 "nbformat_minor": 4
}
