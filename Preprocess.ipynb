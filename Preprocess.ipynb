{
 "cells": [
  {
   "cell_type": "code",
   "execution_count": 2,
   "metadata": {},
   "outputs": [],
   "source": [
    "import os\n",
    "import pandas as pd\n",
    "import numpy as np\n",
    "import cv2\n",
    "\n",
    "def dir_check(dirname):\n",
    "\tif not os.path.exists(dirname):\n",
    "\t\tos.makedirs(dirname)\n",
    "\n",
    "DATA_DIR=\"Data/Pins\"\n",
    "TARGET_DIR=\"Data/PP_pins\"\n",
    "TARGET_SIZE=(299,299)"
   ]
  },
  {
   "cell_type": "code",
   "execution_count": null,
   "metadata": {},
   "outputs": [],
   "source": [
    "dir_check(TARGET_DIR)\n",
    "\n",
    "for dirname, _, filenames in os.walk(DATA_DIR):\n",
    "\tfor filename in filenames:\n",
    "\t\ttry:\n",
    "\t\t\tim=cv2.imread(os.path.join(dirname, filename))\n",
    "\t\t\tim=cv2.resize(im, TARGET_SIZE, interpolation=cv2.INTER_CUBIC)\n",
    "\t\t\tcv2.imwrite(os.path.join(TARGET_DIR, filename),im)\n",
    "\t\texcept Exception as e:\n",
    "\t\t\tprint(filename, e)"
   ]
  },
  {
   "cell_type": "code",
   "execution_count": 8,
   "metadata": {},
   "outputs": [
    {
     "name": "stdout",
     "output_type": "stream",
     "text": [
      "73\n",
      "(302, 366, 3)\n",
      "(302, 366, 3)\n"
     ]
    }
   ],
   "source": [
    "import gif2numpy\n",
    "\n",
    "DATA_DIR=\"Data/9GAG/\"\n",
    "\n",
    "np_imgs, ext, specs=gif2numpy.convert(DATA_DIR+\"--p.gif\")\n",
    "#print(ext)\n",
    "#print(specs)\n",
    "print(len(np_imgs))\n",
    "print(np_imgs[0].shape)\n",
    "print(np_imgs[1].shape)"
   ]
  },
  {
   "cell_type": "code",
   "execution_count": 15,
   "metadata": {},
   "outputs": [],
   "source": [
    "from PIL import Image, ImageSequence\n",
    "\n",
    "im = Image.open(DATA_DIR+\"--p.gif\")\n",
    "\n",
    "index = 1\n",
    "for frame in ImageSequence.Iterator(im):\n",
    "    frame.save(\"Data/Test/frame_%03d.png\" % index)\n",
    "    index += 1"
   ]
  },
  {
   "cell_type": "markdown",
   "metadata": {},
   "source": [
    "### PIL is much much faster.. ofc"
   ]
  },
  {
   "cell_type": "code",
   "execution_count": 26,
   "metadata": {},
   "outputs": [
    {
     "data": {
      "text/plain": [
       "array(['gif', 'jpg'], dtype='<U3')"
      ]
     },
     "execution_count": 26,
     "metadata": {},
     "output_type": "execute_result"
    }
   ],
   "source": [
    "DATA_DIR=\"Data/9GAG\"\n",
    "TARGET_DIR=\"Data/PP_9gag\"\n",
    "TARGET_DIR_GIF=\"Data/PP_9gag_gifs\"\n",
    "TARGET_SIZE=(299,299)\n",
    "\n",
    "dir_check(TARGET_DIR)\n",
    "dir_check(TARGET_DIR_GIF)\n",
    "\n",
    "ext=[]\n",
    "\n",
    "for dirname, _, filenames in os.walk(DATA_DIR):\n",
    "\tfor filename in filenames:\n",
    "\t\text.append(filename.split(\".\")[-1])\n",
    "np.unique(ext)"
   ]
  },
  {
   "cell_type": "code",
   "execution_count": 27,
   "metadata": {},
   "outputs": [],
   "source": [
    "from PIL import Image, ImageSequence\n",
    "\n",
    "\n",
    "def save_gif(fname,save_dir):\n",
    "\tim = Image.open(fname)\n",
    "\tfname=fname.split(\"/\")[-1][:-4]\n",
    "\tsave_dir=os.path.join(save_dir,fname)\n",
    "\tdir_check(save_dir)\n",
    "\tindex = 1\n",
    "\tfor frame in ImageSequence.Iterator(im):\n",
    "\t\tframe.save(save_dir+\"/%03d.png\" % index)\n",
    "\t\tindex += 1\n"
   ]
  },
  {
   "cell_type": "code",
   "execution_count": 28,
   "metadata": {},
   "outputs": [],
   "source": [
    "for dirname, _, filenames in os.walk(DATA_DIR):\n",
    "\tfor filename in filenames:\n",
    "\t\ttry:\n",
    "\t\t\tif(filename.endswith(\"gif\")):\n",
    "\t\t\t\tsave_gif(os.path.join(dirname, filename),TARGET_DIR_GIF)\n",
    "\t\t\telse:\n",
    "\t\t\t\tim=cv2.imread(os.path.join(dirname, filename))\n",
    "\t\t\t\tim=cv2.resize(im, TARGET_SIZE, interpolation=cv2.INTER_CUBIC)\n",
    "\t\t\t\tcv2.imwrite(os.path.join(TARGET_DIR, filename),im)\n",
    "\t\texcept Exception as e:\n",
    "\t\t\tprint(filename, e)"
   ]
  },
  {
   "cell_type": "code",
   "execution_count": 12,
   "metadata": {},
   "outputs": [],
   "source": [
    "def savejpg(fname,target):\n",
    "\ttry:\n",
    "\t\tim=cv2.imread(fname)\n",
    "\t\tim=cv2.resize(im, TARGET_SIZE, interpolation=cv2.INTER_CUBIC)\n",
    "\t\tcv2.imwrite(target,im)\n",
    "\texcept Exception as e:\n",
    "\t\tprint(fname, e)"
   ]
  },
  {
   "cell_type": "code",
   "execution_count": 15,
   "metadata": {},
   "outputs": [
    {
     "name": "stdout",
     "output_type": "stream",
     "text": [
      "Data/PP_9gag_gifs/001.png OpenCV(3.4.2) /tmp/build/80754af9/opencv-suite_1535558553474/work/modules/imgproc/src/resize.cpp:4044: error: (-215:Assertion failed) !ssize.empty() in function 'resize'\n",
      "\n",
      "Data/PP_9gag_gifs/094.png OpenCV(3.4.2) /tmp/build/80754af9/opencv-suite_1535558553474/work/modules/imgproc/src/resize.cpp:4044: error: (-215:Assertion failed) !ssize.empty() in function 'resize'\n",
      "\n",
      "Data/PP_9gag_gifs/188.png OpenCV(3.4.2) /tmp/build/80754af9/opencv-suite_1535558553474/work/modules/imgproc/src/resize.cpp:4044: error: (-215:Assertion failed) !ssize.empty() in function 'resize'\n",
      "\n"
     ]
    }
   ],
   "source": [
    "DATA_DIR=\"Data/PP_9gag_gifs/\"\n",
    "TARGET_DIR=\"Data/PP_9gag/\"\n",
    "\n",
    "for dirname, _, filenames in os.walk(DATA_DIR):\n",
    "\tlow=1\n",
    "\thigh=len(os.listdir(dirname))\n",
    "\tmid=(high+low)//2\n",
    "\tsrc=os.path.join(dirname,\"%03d.png\")\n",
    "\tdst=os.path.join(TARGET_DIR,dirname.split(\"/\")[-1]+\"_%03d.jpg\")\n",
    "\tsavejpg(src%low,dst%low)\n",
    "\tsavejpg(src%mid,dst%mid)\n",
    "\tsavejpg(src%high,dst%high)\n",
    "\t"
   ]
  },
  {
   "cell_type": "code",
   "execution_count": 17,
   "metadata": {},
   "outputs": [
    {
     "name": "stdout",
     "output_type": "stream",
     "text": [
      "1186\n"
     ]
    }
   ],
   "source": [
    "#1186 expected\n",
    "# (810-188)+188*3=1186\n",
    "print(len(os.listdir(TARGET_DIR)))"
   ]
  }
 ],
 "metadata": {
  "kernelspec": {
   "display_name": "Python 3",
   "language": "python",
   "name": "python3"
  },
  "language_info": {
   "codemirror_mode": {
    "name": "ipython",
    "version": 3
   },
   "file_extension": ".py",
   "mimetype": "text/x-python",
   "name": "python",
   "nbconvert_exporter": "python",
   "pygments_lexer": "ipython3",
   "version": "3.7.6"
  }
 },
 "nbformat": 4,
 "nbformat_minor": 4
}
