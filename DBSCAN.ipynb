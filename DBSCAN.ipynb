{
 "cells": [
  {
   "cell_type": "code",
   "execution_count": null,
   "metadata": {},
   "outputs": [],
   "source": [
    "import os\n",
    "import pandas as pd\n",
    "import numpy as np\n",
    "import matplotlib.pyplot as plt\n",
    "FEATURE_DIR=\"Data/features/\""
   ]
  },
  {
   "cell_type": "code",
   "execution_count": null,
   "metadata": {},
   "outputs": [],
   "source": [
    "features=np.load(FEATURE_DIR+\"Inceptionv3_avg_RGB.npy\")\n",
    "pins=pd.read_pickle(\"Data/pins_RGB.pkl\")\n",
    "pins.head()"
   ]
  },
  {
   "cell_type": "code",
   "execution_count": null,
   "metadata": {},
   "outputs": [],
   "source": [
    "from sklearn.metrics.pairwise import euclidean_distances\n",
    "\n",
    "euc_distances=euclidean_distances(features)\n",
    "euc_distances[euc_distances==0]=np.nan"
   ]
  },
  {
   "cell_type": "code",
   "execution_count": null,
   "metadata": {},
   "outputs": [],
   "source": [
    "print(np.nanmax(euc_distances))\n",
    "print(np.nanmean(euc_distances))\n",
    "print(np.nanmin(euc_distances))\n",
    "\n",
    "print(np.mean(np.nanmax(euc_distances,axis=1)))\n",
    "print(np.max(np.nanmean(euc_distances,axis=1)))\n",
    "\n",
    "print(np.mean(np.nanmin(euc_distances,axis=1)))\n",
    "print(np.min(np.nanmean(euc_distances,axis=1)))\n"
   ]
  },
  {
   "cell_type": "code",
   "execution_count": null,
   "metadata": {},
   "outputs": [],
   "source": [
    "from sklearn.neighbors import NearestNeighbors\n",
    "nn = NearestNeighbors(n_neighbors=6).fit(features)\n",
    "dist, indices = nn.kneighbors(features)"
   ]
  },
  {
   "cell_type": "code",
   "execution_count": null,
   "metadata": {},
   "outputs": [],
   "source": [
    "distances = sorted(dist[:,5], reverse=True)\n",
    "plt.plot(list(range(1,4103+1)), distances)"
   ]
  },
  {
   "cell_type": "code",
   "execution_count": null,
   "metadata": {},
   "outputs": [],
   "source": [
    "from sklearn.cluster import DBSCAN\n",
    "\n",
    "dbs = DBSCAN(eps=280, min_samples=5, n_jobs=-1)\n",
    "clust=dbs.fit(features)\n",
    "pins['Label']=clust.labels_\n",
    "pins['Label'].value_counts()"
   ]
  },
  {
   "cell_type": "code",
   "execution_count": null,
   "metadata": {},
   "outputs": [],
   "source": [
    "x=0\n",
    "fig=plt.figure(figsize=(24,48))\n",
    "img_index=1\n",
    "for i in range(72*x,72*(x+1)):\n",
    "\tfig.add_subplot(12,6,img_index)\n",
    "\tplt.imshow(pins['Images'][i])\n",
    "\tplt.title(pins['Label'][i])\n",
    "\timg_index+=1\n",
    "plt.show()\n",
    "x+=1"
   ]
  },
  {
   "cell_type": "code",
   "execution_count": null,
   "metadata": {},
   "outputs": [],
   "source": []
  }
 ],
 "metadata": {
  "kernelspec": {
   "display_name": "Python 3",
   "language": "python",
   "name": "python3"
  },
  "language_info": {
   "codemirror_mode": {
    "name": "ipython",
    "version": 3
   },
   "file_extension": ".py",
   "mimetype": "text/x-python",
   "name": "python",
   "nbconvert_exporter": "python",
   "pygments_lexer": "ipython3",
   "version": "3.7.6"
  }
 },
 "nbformat": 4,
 "nbformat_minor": 4
}
