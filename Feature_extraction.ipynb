{
 "cells": [
  {
   "cell_type": "code",
   "execution_count": 2,
   "metadata": {},
   "outputs": [],
   "source": [
    "import os\n",
    "import pandas as pd\n",
    "import numpy as np\n",
    "import cv2\n",
    "\n",
    "def CheckDir(dirname):\n",
    "\tif not os.path.exists(dirname):\n",
    "\t\tos.makedirs(dirname)\n",
    "\n",
    "DATA_DIR=\"Data/PP_pins\"\n",
    "IM_SIZE=(299,299)"
   ]
  },
  {
   "cell_type": "code",
   "execution_count": null,
   "metadata": {},
   "outputs": [],
   "source": [
    "images=[]\n",
    "img_path=[]\n",
    "for dirname, _, filenames in os.walk(DATA_DIR):\n",
    "\tprint(dirname, len(filenames))\n",
    "\tfor filename in filenames:\n",
    "\t\ttry:\n",
    "\t\t\tf_path=os.path.join(dirname, filename)\n",
    "\t\t\timages.append(cv2.imread(f_path))\n",
    "\t\t\timg_path.append(f_path)\n",
    "\t\texcept Exception as e:\n",
    "\t\t\tprint(filename, e)"
   ]
  },
  {
   "cell_type": "code",
   "execution_count": 17,
   "metadata": {},
   "outputs": [],
   "source": [
    "pins=pd.DataFrame({\n",
    "\t\"Path\":img_path,\n",
    "\t\"Images\": images\n",
    "})\n",
    "pins.to_pickle(\"Data/pins.pkl\")"
   ]
  },
  {
   "cell_type": "code",
   "execution_count": 2,
   "metadata": {},
   "outputs": [
    {
     "data": {
      "text/html": [
       "<div>\n",
       "<style scoped>\n",
       "    .dataframe tbody tr th:only-of-type {\n",
       "        vertical-align: middle;\n",
       "    }\n",
       "\n",
       "    .dataframe tbody tr th {\n",
       "        vertical-align: top;\n",
       "    }\n",
       "\n",
       "    .dataframe thead th {\n",
       "        text-align: right;\n",
       "    }\n",
       "</style>\n",
       "<table border=\"1\" class=\"dataframe\">\n",
       "  <thead>\n",
       "    <tr style=\"text-align: right;\">\n",
       "      <th></th>\n",
       "      <th>Path</th>\n",
       "      <th>Images</th>\n",
       "    </tr>\n",
       "  </thead>\n",
       "  <tbody>\n",
       "    <tr>\n",
       "      <th>0</th>\n",
       "      <td>Data/PP_pins/000337a0ee7432d5453c7016a757d410.jpg</td>\n",
       "      <td>[[[255, 255, 255], [255, 255, 255], [255, 255,...</td>\n",
       "    </tr>\n",
       "    <tr>\n",
       "      <th>1</th>\n",
       "      <td>Data/PP_pins/00201308aafb382364df742cd2c88367.jpg</td>\n",
       "      <td>[[[84, 55, 94], [119, 80, 118], [115, 63, 100]...</td>\n",
       "    </tr>\n",
       "    <tr>\n",
       "      <th>2</th>\n",
       "      <td>Data/PP_pins/00264f7f0e84a86fddd2dc390941c044.jpg</td>\n",
       "      <td>[[[216, 237, 228], [214, 238, 228], [209, 233,...</td>\n",
       "    </tr>\n",
       "    <tr>\n",
       "      <th>3</th>\n",
       "      <td>Data/PP_pins/0027d4a15fbca7694c80a3a96383292c.jpg</td>\n",
       "      <td>[[[77, 63, 14], [78, 64, 15], [78, 64, 15], [7...</td>\n",
       "    </tr>\n",
       "    <tr>\n",
       "      <th>4</th>\n",
       "      <td>Data/PP_pins/0028f6bcf10b0b32b8e5774fc21cc305.jpg</td>\n",
       "      <td>[[[182, 188, 187], [184, 191, 188], [186, 189,...</td>\n",
       "    </tr>\n",
       "  </tbody>\n",
       "</table>\n",
       "</div>"
      ],
      "text/plain": [
       "                                                Path  \\\n",
       "0  Data/PP_pins/000337a0ee7432d5453c7016a757d410.jpg   \n",
       "1  Data/PP_pins/00201308aafb382364df742cd2c88367.jpg   \n",
       "2  Data/PP_pins/00264f7f0e84a86fddd2dc390941c044.jpg   \n",
       "3  Data/PP_pins/0027d4a15fbca7694c80a3a96383292c.jpg   \n",
       "4  Data/PP_pins/0028f6bcf10b0b32b8e5774fc21cc305.jpg   \n",
       "\n",
       "                                              Images  \n",
       "0  [[[255, 255, 255], [255, 255, 255], [255, 255,...  \n",
       "1  [[[84, 55, 94], [119, 80, 118], [115, 63, 100]...  \n",
       "2  [[[216, 237, 228], [214, 238, 228], [209, 233,...  \n",
       "3  [[[77, 63, 14], [78, 64, 15], [78, 64, 15], [7...  \n",
       "4  [[[182, 188, 187], [184, 191, 188], [186, 189,...  "
      ]
     },
     "execution_count": 2,
     "metadata": {},
     "output_type": "execute_result"
    }
   ],
   "source": [
    "pins=pd.read_pickle(\"Data/pins.pkl\")\n",
    "pins.head()"
   ]
  },
  {
   "cell_type": "code",
   "execution_count": 12,
   "metadata": {},
   "outputs": [],
   "source": [
    "from keras.applications.inception_v3 import InceptionV3\n",
    "\n",
    "MODEL_DIR=\"../dgx/models/\"\n",
    "\n",
    "model=InceptionV3(weights=MODEL_DIR+\"inception_v3_weights_tf_dim_ordering_tf_kernels_notop.h5\",\n",
    "\t\t\t\t include_top=False,\n",
    "\t\t\t\t pooling='avg')"
   ]
  },
  {
   "cell_type": "code",
   "execution_count": 17,
   "metadata": {},
   "outputs": [],
   "source": [
    "features=model.predict(np.stack(pins['Images'].values))"
   ]
  },
  {
   "cell_type": "code",
   "execution_count": 25,
   "metadata": {},
   "outputs": [],
   "source": [
    "FEATURE_DIR=\"Data/features/\"\n",
    "CheckDir(FEATURE_DIR)\n",
    "np.save(FEATURE_DIR+\"Inceptionv3_avg.npy\",features)"
   ]
  },
  {
   "cell_type": "code",
   "execution_count": 4,
   "metadata": {},
   "outputs": [],
   "source": [
    "FEATURE_DIR=\"Data/features/\"\n",
    "features=np.load(FEATURE_DIR+\"Inceptionv3_avg.npy\")"
   ]
  },
  {
   "cell_type": "code",
   "execution_count": null,
   "metadata": {},
   "outputs": [],
   "source": []
  }
 ],
 "metadata": {
  "kernelspec": {
   "display_name": "Python 3",
   "language": "python",
   "name": "python3"
  },
  "language_info": {
   "codemirror_mode": {
    "name": "ipython",
    "version": 3
   },
   "file_extension": ".py",
   "mimetype": "text/x-python",
   "name": "python",
   "nbconvert_exporter": "python",
   "pygments_lexer": "ipython3",
   "version": "3.7.6"
  }
 },
 "nbformat": 4,
 "nbformat_minor": 4
}
