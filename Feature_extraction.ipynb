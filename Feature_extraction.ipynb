{
 "cells": [
  {
   "cell_type": "code",
   "execution_count": 1,
   "metadata": {},
   "outputs": [],
   "source": [
    "import os\n",
    "import pandas as pd\n",
    "import numpy as np\n",
    "import cv2\n",
    "\n",
    "def CheckDir(dirname):\n",
    "\tif not os.path.exists(dirname):\n",
    "\t\tos.makedirs(dirname)\n",
    "\n",
    "DATA_DIR=\"Data/PP_pins\"\n",
    "IM_SIZE=(299,299)"
   ]
  },
  {
   "cell_type": "code",
   "execution_count": 8,
   "metadata": {},
   "outputs": [
    {
     "name": "stdout",
     "output_type": "stream",
     "text": [
      "Data/PP_pins 4103\n"
     ]
    }
   ],
   "source": [
    "images=[]\n",
    "img_path=[]\n",
    "for dirname, _, filenames in os.walk(DATA_DIR):\n",
    "\tprint(dirname, len(filenames))\n",
    "\tfor filename in filenames:\n",
    "\t\ttry:\n",
    "\t\t\tf_path=os.path.join(dirname, filename)\n",
    "\t\t\timages.append(cv2.imread(f_path)[:,:,::-1])\n",
    "\t\t\timg_path.append(f_path)\n",
    "\t\texcept Exception as e:\n",
    "\t\t\tprint(filename, e)"
   ]
  },
  {
   "cell_type": "code",
   "execution_count": null,
   "metadata": {},
   "outputs": [],
   "source": [
    "pins=pd.DataFrame({\n",
    "\t\"Path\":img_path,\n",
    "\t\"Images\": images\n",
    "})\n",
    "pins.to_pickle(\"Data/pins_RGB.pkl\")"
   ]
  },
  {
   "cell_type": "code",
   "execution_count": null,
   "metadata": {},
   "outputs": [],
   "source": [
    "pins=pd.read_pickle(\"Data/pins_RGB.pkl\")\n",
    "pins.head()"
   ]
  },
  {
   "cell_type": "code",
   "execution_count": null,
   "metadata": {},
   "outputs": [],
   "source": [
    "import matplotlib.pyplot as plt\n",
    "\n",
    "fig=plt.figure(figsize=(16,24))\n",
    "img_index=641\n",
    "\n",
    "\n",
    "fig.add_subplot(641)\n",
    "plt.imshow(pins['Images'][0])\n",
    "plt.show()"
   ]
  },
  {
   "cell_type": "code",
   "execution_count": 12,
   "metadata": {},
   "outputs": [],
   "source": [
    "from keras.applications.inception_v3 import InceptionV3\n",
    "\n",
    "MODEL_DIR=\"../dgx/models/\"\n",
    "\n",
    "model=InceptionV3(weights=MODEL_DIR+\"inception_v3_weights_tf_dim_ordering_tf_kernels_notop.h5\",\n",
    "\t\t\t\t include_top=False,\n",
    "\t\t\t\t pooling='avg')"
   ]
  },
  {
   "cell_type": "code",
   "execution_count": 17,
   "metadata": {},
   "outputs": [],
   "source": [
    "features=model.predict(np.stack(pins['Images'].values))"
   ]
  },
  {
   "cell_type": "code",
   "execution_count": 25,
   "metadata": {},
   "outputs": [],
   "source": [
    "FEATURE_DIR=\"Data/features/\"\n",
    "CheckDir(FEATURE_DIR)\n",
    "np.save(FEATURE_DIR+\"Inceptionv3_avg.npy\",features)"
   ]
  }
 ],
 "metadata": {
  "kernelspec": {
   "display_name": "Python 3",
   "language": "python",
   "name": "python3"
  },
  "language_info": {
   "codemirror_mode": {
    "name": "ipython",
    "version": 3
   },
   "file_extension": ".py",
   "mimetype": "text/x-python",
   "name": "python",
   "nbconvert_exporter": "python",
   "pygments_lexer": "ipython3",
   "version": "3.7.6"
  }
 },
 "nbformat": 4,
 "nbformat_minor": 4
}
