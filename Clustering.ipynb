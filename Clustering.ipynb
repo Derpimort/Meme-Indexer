{
 "cells": [
  {
   "cell_type": "code",
   "execution_count": 1,
   "metadata": {},
   "outputs": [],
   "source": [
    "import os\n",
    "import pandas as pd\n",
    "import numpy as np\n",
    "import cv2\n",
    "\n",
    "def CheckDir(dirname):\n",
    "\tif not os.path.exists(dirname):\n",
    "\t\tos.makedirs(dirname)\n",
    "\n",
    "DATA_DIR=\"Data/PP_pins\"\n",
    "IM_SIZE=(299,299)"
   ]
  },
  {
   "cell_type": "code",
   "execution_count": 4,
   "metadata": {},
   "outputs": [
    {
     "data": {
      "text/html": [
       "<div>\n",
       "<style scoped>\n",
       "    .dataframe tbody tr th:only-of-type {\n",
       "        vertical-align: middle;\n",
       "    }\n",
       "\n",
       "    .dataframe tbody tr th {\n",
       "        vertical-align: top;\n",
       "    }\n",
       "\n",
       "    .dataframe thead th {\n",
       "        text-align: right;\n",
       "    }\n",
       "</style>\n",
       "<table border=\"1\" class=\"dataframe\">\n",
       "  <thead>\n",
       "    <tr style=\"text-align: right;\">\n",
       "      <th></th>\n",
       "      <th>Path</th>\n",
       "      <th>Images</th>\n",
       "    </tr>\n",
       "  </thead>\n",
       "  <tbody>\n",
       "    <tr>\n",
       "      <th>0</th>\n",
       "      <td>Data/PP_pins/000337a0ee7432d5453c7016a757d410.jpg</td>\n",
       "      <td>[[[255, 255, 255], [255, 255, 255], [255, 255,...</td>\n",
       "    </tr>\n",
       "    <tr>\n",
       "      <th>1</th>\n",
       "      <td>Data/PP_pins/00201308aafb382364df742cd2c88367.jpg</td>\n",
       "      <td>[[[94, 55, 84], [118, 80, 119], [100, 63, 115]...</td>\n",
       "    </tr>\n",
       "    <tr>\n",
       "      <th>2</th>\n",
       "      <td>Data/PP_pins/00264f7f0e84a86fddd2dc390941c044.jpg</td>\n",
       "      <td>[[[228, 237, 216], [228, 238, 214], [225, 233,...</td>\n",
       "    </tr>\n",
       "    <tr>\n",
       "      <th>3</th>\n",
       "      <td>Data/PP_pins/0027d4a15fbca7694c80a3a96383292c.jpg</td>\n",
       "      <td>[[[14, 63, 77], [15, 64, 78], [15, 64, 78], [1...</td>\n",
       "    </tr>\n",
       "    <tr>\n",
       "      <th>4</th>\n",
       "      <td>Data/PP_pins/0028f6bcf10b0b32b8e5774fc21cc305.jpg</td>\n",
       "      <td>[[[187, 188, 182], [188, 191, 184], [187, 189,...</td>\n",
       "    </tr>\n",
       "  </tbody>\n",
       "</table>\n",
       "</div>"
      ],
      "text/plain": [
       "                                                Path  \\\n",
       "0  Data/PP_pins/000337a0ee7432d5453c7016a757d410.jpg   \n",
       "1  Data/PP_pins/00201308aafb382364df742cd2c88367.jpg   \n",
       "2  Data/PP_pins/00264f7f0e84a86fddd2dc390941c044.jpg   \n",
       "3  Data/PP_pins/0027d4a15fbca7694c80a3a96383292c.jpg   \n",
       "4  Data/PP_pins/0028f6bcf10b0b32b8e5774fc21cc305.jpg   \n",
       "\n",
       "                                              Images  \n",
       "0  [[[255, 255, 255], [255, 255, 255], [255, 255,...  \n",
       "1  [[[94, 55, 84], [118, 80, 119], [100, 63, 115]...  \n",
       "2  [[[228, 237, 216], [228, 238, 214], [225, 233,...  \n",
       "3  [[[14, 63, 77], [15, 64, 78], [15, 64, 78], [1...  \n",
       "4  [[[187, 188, 182], [188, 191, 184], [187, 189,...  "
      ]
     },
     "execution_count": 4,
     "metadata": {},
     "output_type": "execute_result"
    }
   ],
   "source": [
    "FEATURE_DIR=\"Data/features/\"\n",
    "features=np.load(FEATURE_DIR+\"Inceptionv3_avg_RGB.npy\")\n",
    "pins=pd.read_pickle(\"Data/pins_RGB.pkl\")\n",
    "pins.head()"
   ]
  },
  {
   "cell_type": "code",
   "execution_count": 5,
   "metadata": {},
   "outputs": [],
   "source": [
    "from sklearn.cluster import KMeans\n",
    "import matplotlib.pyplot as plt\n",
    "\n",
    "kmeans=KMeans(n_clusters=6, init=\"k-means++\", max_iter=300, n_init=10, random_state=1)\n",
    "labels=kmeans.fit_predict(features)\n"
   ]
  },
  {
   "cell_type": "code",
   "execution_count": 6,
   "metadata": {},
   "outputs": [
    {
     "data": {
      "text/html": [
       "<div>\n",
       "<style scoped>\n",
       "    .dataframe tbody tr th:only-of-type {\n",
       "        vertical-align: middle;\n",
       "    }\n",
       "\n",
       "    .dataframe tbody tr th {\n",
       "        vertical-align: top;\n",
       "    }\n",
       "\n",
       "    .dataframe thead th {\n",
       "        text-align: right;\n",
       "    }\n",
       "</style>\n",
       "<table border=\"1\" class=\"dataframe\">\n",
       "  <thead>\n",
       "    <tr style=\"text-align: right;\">\n",
       "      <th></th>\n",
       "      <th>Path</th>\n",
       "      <th>Images</th>\n",
       "      <th>Cluster</th>\n",
       "    </tr>\n",
       "  </thead>\n",
       "  <tbody>\n",
       "    <tr>\n",
       "      <th>0</th>\n",
       "      <td>Data/PP_pins/000337a0ee7432d5453c7016a757d410.jpg</td>\n",
       "      <td>[[[255, 255, 255], [255, 255, 255], [255, 255,...</td>\n",
       "      <td>0</td>\n",
       "    </tr>\n",
       "    <tr>\n",
       "      <th>1</th>\n",
       "      <td>Data/PP_pins/00201308aafb382364df742cd2c88367.jpg</td>\n",
       "      <td>[[[94, 55, 84], [118, 80, 119], [100, 63, 115]...</td>\n",
       "      <td>1</td>\n",
       "    </tr>\n",
       "    <tr>\n",
       "      <th>2</th>\n",
       "      <td>Data/PP_pins/00264f7f0e84a86fddd2dc390941c044.jpg</td>\n",
       "      <td>[[[228, 237, 216], [228, 238, 214], [225, 233,...</td>\n",
       "      <td>0</td>\n",
       "    </tr>\n",
       "    <tr>\n",
       "      <th>3</th>\n",
       "      <td>Data/PP_pins/0027d4a15fbca7694c80a3a96383292c.jpg</td>\n",
       "      <td>[[[14, 63, 77], [15, 64, 78], [15, 64, 78], [1...</td>\n",
       "      <td>4</td>\n",
       "    </tr>\n",
       "    <tr>\n",
       "      <th>4</th>\n",
       "      <td>Data/PP_pins/0028f6bcf10b0b32b8e5774fc21cc305.jpg</td>\n",
       "      <td>[[[187, 188, 182], [188, 191, 184], [187, 189,...</td>\n",
       "      <td>4</td>\n",
       "    </tr>\n",
       "  </tbody>\n",
       "</table>\n",
       "</div>"
      ],
      "text/plain": [
       "                                                Path  \\\n",
       "0  Data/PP_pins/000337a0ee7432d5453c7016a757d410.jpg   \n",
       "1  Data/PP_pins/00201308aafb382364df742cd2c88367.jpg   \n",
       "2  Data/PP_pins/00264f7f0e84a86fddd2dc390941c044.jpg   \n",
       "3  Data/PP_pins/0027d4a15fbca7694c80a3a96383292c.jpg   \n",
       "4  Data/PP_pins/0028f6bcf10b0b32b8e5774fc21cc305.jpg   \n",
       "\n",
       "                                              Images  Cluster  \n",
       "0  [[[255, 255, 255], [255, 255, 255], [255, 255,...        0  \n",
       "1  [[[94, 55, 84], [118, 80, 119], [100, 63, 115]...        1  \n",
       "2  [[[228, 237, 216], [228, 238, 214], [225, 233,...        0  \n",
       "3  [[[14, 63, 77], [15, 64, 78], [15, 64, 78], [1...        4  \n",
       "4  [[[187, 188, 182], [188, 191, 184], [187, 189,...        4  "
      ]
     },
     "execution_count": 6,
     "metadata": {},
     "output_type": "execute_result"
    }
   ],
   "source": [
    "pins['Cluster']=labels\n",
    "pins.head()"
   ]
  },
  {
   "cell_type": "code",
   "execution_count": null,
   "metadata": {},
   "outputs": [],
   "source": [
    "x=0\n",
    "while(input()==\"\"):\n",
    "\tfig=plt.figure(figsize=(16,48))\n",
    "\timg_index=1\n",
    "\tfor i in range(32*x,32*(x+1)):\n",
    "\t\tfig.add_subplot(12,4,img_index)\n",
    "\t\tplt.imshow(pins['Images'][i])\n",
    "\t\tplt.title(pins['Cluster'][i])\n",
    "\t\timg_index+=1\n",
    "\tplt.show()\n",
    "\tx+=1"
   ]
  },
  {
   "cell_type": "markdown",
   "metadata": {},
   "source": [
    "#### It got teenager posts separated.... 1 has more text based memes i hope.... will study the rest later\n",
    "\n",
    "#### Initial expectations are to get a sort of broad classification.... don't know exactly what"
   ]
  },
  {
   "cell_type": "code",
   "execution_count": null,
   "metadata": {},
   "outputs": [],
   "source": [
    "wcss=[]\n",
    "km=[]\n",
    "for i in range(2,30):\n",
    "\tkmeans=KMeans(n_clusters=i, init=\"k-means++\", max_iter=300, n_init=10, random_state=1)\n",
    "\tkmeans.fit(features)\n",
    "\tkm.append(kmeans)\n",
    "\twcss.append(kmeans.inertia_)\n",
    "\t\n",
    "plt.figure(figsize=(12,6))\n",
    "plt.plot(range(2,30),wcss)\n",
    "plt.title(\"Elbow\")\n",
    "plt.xlabel(\"No. of clusters\")"
   ]
  },
  {
   "cell_type": "code",
   "execution_count": null,
   "metadata": {},
   "outputs": [],
   "source": []
  }
 ],
 "metadata": {
  "kernelspec": {
   "display_name": "Python 3",
   "language": "python",
   "name": "python3"
  },
  "language_info": {
   "codemirror_mode": {
    "name": "ipython",
    "version": 3
   },
   "file_extension": ".py",
   "mimetype": "text/x-python",
   "name": "python",
   "nbconvert_exporter": "python",
   "pygments_lexer": "ipython3",
   "version": "3.7.6"
  }
 },
 "nbformat": 4,
 "nbformat_minor": 4
}
